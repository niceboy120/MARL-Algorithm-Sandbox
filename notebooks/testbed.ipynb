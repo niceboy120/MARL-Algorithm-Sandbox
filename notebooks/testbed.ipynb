{
 "cells": [
  {
   "attachments": {},
   "cell_type": "markdown",
   "metadata": {},
   "source": [
    "### Running main program"
   ]
  },
  {
   "cell_type": "code",
   "execution_count": 1,
   "metadata": {},
   "outputs": [
    {
     "name": "stderr",
     "output_type": "stream",
     "text": [
      "/home/alden/.pyenv/versions/3.10.7/lib/python3.10/site-packages/gym/logger.py:34: UserWarning: \u001b[33mWARN: Box bound precision lowered by casting to float32\u001b[0m\n",
      "  warnings.warn(colorize(\"%s: %s\" % (\"WARN\", msg % args), \"yellow\"))\n",
      "/home/alden/Documents/Programming/marl-algos/src/main.py:38: UserWarning: Creating a tensor from a list of numpy.ndarrays is extremely slow. Please consider converting the list to a single numpy.ndarray with numpy.array() before converting to a tensor. (Triggered internally at ../torch/csrc/utils/tensor_new.cpp:230.)\n",
      "  action, hidden = q.sample_action(torch.Tensor(state).unsqueeze(0), hidden, epsilon)\n"
     ]
    },
    {
     "name": "stdout",
     "output_type": "stream",
     "text": [
      "#99        /15000 episodes , avg train score : -71.3, test score: -192.1 n_buffer : 3556, eps : 0.9\n",
      "#199       /15000 episodes , avg train score : -82.7, test score: -503.5 n_buffer : 7091, eps : 0.9\n",
      "#299       /15000 episodes , avg train score : -80.1, test score: -85.3 n_buffer : 10556, eps : 0.9\n",
      "#399       /15000 episodes , avg train score : -63.9, test score: -115.6 n_buffer : 13938, eps : 0.9\n",
      "#499       /15000 episodes , avg train score : -61.7, test score: -358.7 n_buffer : 17353, eps : 0.9\n",
      "#599       /15000 episodes , avg train score : -45.1, test score: -105.9 n_buffer : 20703, eps : 0.8\n",
      "#699       /15000 episodes , avg train score : -79.3, test score: -329.2 n_buffer : 24158, eps : 0.8\n",
      "#799       /15000 episodes , avg train score : -75.3, test score: -344.4 n_buffer : 27636, eps : 0.8\n",
      "#899       /15000 episodes , avg train score : -71.7, test score: -241.8 n_buffer : 31033, eps : 0.8\n",
      "#999       /15000 episodes , avg train score : -56.1, test score: -75.1 n_buffer : 34335, eps : 0.8\n",
      "#1099      /15000 episodes , avg train score : -41.8, test score: -156.2 n_buffer : 37455, eps : 0.8\n",
      "#1199      /15000 episodes , avg train score : -73.5, test score: -128.3 n_buffer : 40776, eps : 0.8\n",
      "#1299      /15000 episodes , avg train score : -71.0, test score: -254.0 n_buffer : 44173, eps : 0.8\n",
      "#1399      /15000 episodes , avg train score : -61.9, test score: -1083.5 n_buffer : 47622, eps : 0.8\n",
      "#1499      /15000 episodes , avg train score : -63.4, test score: -266.2 n_buffer : 50000, eps : 0.8\n",
      "#1599      /15000 episodes , avg train score : -60.2, test score: -271.4 n_buffer : 50000, eps : 0.8\n",
      "#1699      /15000 episodes , avg train score : -72.0, test score: -576.1 n_buffer : 50000, eps : 0.7\n",
      "#1799      /15000 episodes , avg train score : -47.0, test score: -306.1 n_buffer : 50000, eps : 0.7\n",
      "#1899      /15000 episodes , avg train score : -46.0, test score: -160.3 n_buffer : 50000, eps : 0.7\n",
      "#1999      /15000 episodes , avg train score : -48.2, test score: -280.9 n_buffer : 50000, eps : 0.7\n",
      "#2099      /15000 episodes , avg train score : -77.2, test score: -142.4 n_buffer : 50000, eps : 0.7\n",
      "#2199      /15000 episodes , avg train score : -48.4, test score: -105.9 n_buffer : 50000, eps : 0.7\n",
      "#2299      /15000 episodes , avg train score : -43.4, test score: -127.6 n_buffer : 50000, eps : 0.7\n",
      "#2399      /15000 episodes , avg train score : -62.6, test score: -60.7 n_buffer : 50000, eps : 0.7\n",
      "#2499      /15000 episodes , avg train score : -60.4, test score: -267.4 n_buffer : 50000, eps : 0.7\n",
      "#2599      /15000 episodes , avg train score : -64.4, test score: -124.5 n_buffer : 50000, eps : 0.7\n",
      "#2699      /15000 episodes , avg train score : -85.2, test score: -96.5 n_buffer : 50000, eps : 0.7\n",
      "#2799      /15000 episodes , avg train score : -40.2, test score: -130.8 n_buffer : 50000, eps : 0.7\n",
      "#2899      /15000 episodes , avg train score : -87.1, test score: -77.1 n_buffer : 50000, eps : 0.6\n",
      "#2999      /15000 episodes , avg train score : -91.7, test score: -152.7 n_buffer : 50000, eps : 0.6\n",
      "#3099      /15000 episodes , avg train score : -87.2, test score: -80.3 n_buffer : 50000, eps : 0.6\n",
      "#3199      /15000 episodes , avg train score : -46.6, test score: -134.6 n_buffer : 50000, eps : 0.6\n",
      "#3299      /15000 episodes , avg train score : -52.1, test score: -172.6 n_buffer : 50000, eps : 0.6\n",
      "#3399      /15000 episodes , avg train score : -69.4, test score: -185.7 n_buffer : 50000, eps : 0.6\n",
      "#3499      /15000 episodes , avg train score : -60.5, test score: -140.7 n_buffer : 50000, eps : 0.6\n",
      "#3599      /15000 episodes , avg train score : -69.1, test score: -169.1 n_buffer : 50000, eps : 0.6\n",
      "#3699      /15000 episodes , avg train score : -55.4, test score: -153.5 n_buffer : 50000, eps : 0.6\n",
      "#3799      /15000 episodes , avg train score : -56.7, test score: -147.7 n_buffer : 50000, eps : 0.6\n",
      "#3899      /15000 episodes , avg train score : -48.3, test score: -132.1 n_buffer : 50000, eps : 0.6\n",
      "#3999      /15000 episodes , avg train score : -48.6, test score: -134.7 n_buffer : 50000, eps : 0.5\n",
      "#4099      /15000 episodes , avg train score : -42.5, test score: -159.2 n_buffer : 50000, eps : 0.5\n",
      "#4199      /15000 episodes , avg train score : -69.4, test score: -148.4 n_buffer : 50000, eps : 0.5\n",
      "#4299      /15000 episodes , avg train score : -90.3, test score: -173.4 n_buffer : 50000, eps : 0.5\n",
      "#4399      /15000 episodes , avg train score : -78.5, test score: -120.9 n_buffer : 50000, eps : 0.5\n",
      "#4499      /15000 episodes , avg train score : -69.2, test score: -127.0 n_buffer : 50000, eps : 0.5\n",
      "#4599      /15000 episodes , avg train score : -53.3, test score: -106.8 n_buffer : 50000, eps : 0.5\n",
      "#4699      /15000 episodes , avg train score : -91.1, test score: -154.5 n_buffer : 50000, eps : 0.5\n",
      "#4799      /15000 episodes , avg train score : -43.9, test score: -101.9 n_buffer : 50000, eps : 0.5\n",
      "#4899      /15000 episodes , avg train score : -43.3, test score: -74.1 n_buffer : 50000, eps : 0.5\n",
      "#4999      /15000 episodes , avg train score : -50.0, test score: -148.9 n_buffer : 50000, eps : 0.5\n",
      "#5099      /15000 episodes , avg train score : -51.2, test score: -111.5 n_buffer : 50000, eps : 0.4\n",
      "#5199      /15000 episodes , avg train score : -43.2, test score: -116.3 n_buffer : 50000, eps : 0.4\n",
      "#5299      /15000 episodes , avg train score : -49.9, test score: -136.8 n_buffer : 50000, eps : 0.4\n",
      "#5399      /15000 episodes , avg train score : -70.9, test score: -149.7 n_buffer : 50000, eps : 0.4\n",
      "#5499      /15000 episodes , avg train score : -71.4, test score: -185.4 n_buffer : 50000, eps : 0.4\n",
      "#5599      /15000 episodes , avg train score : -55.6, test score: -134.9 n_buffer : 50000, eps : 0.4\n",
      "#5699      /15000 episodes , avg train score : -67.1, test score: -184.8 n_buffer : 50000, eps : 0.4\n",
      "Unexpected exception formatting exception. Falling back to standard exception\n"
     ]
    },
    {
     "name": "stderr",
     "output_type": "stream",
     "text": [
      "Traceback (most recent call last):\n",
      "  File \"/home/alden/.local/lib/python3.10/site-packages/IPython/core/interactiveshell.py\", line 2797, in safe_execfile\n",
      "    py3compat.execfile(\n",
      "  File \"/home/alden/.local/lib/python3.10/site-packages/IPython/utils/py3compat.py\", line 55, in execfile\n",
      "    exec(compiler(f.read(), fname, \"exec\"), glob, loc)\n",
      "  File \"/home/alden/Documents/Programming/marl-algos/src/main.py\", line 103, in <module>\n",
      "    'log_interval': 100,\n",
      "  File \"/home/alden/Documents/Programming/marl-algos/src/main.py\", line 46, in main\n",
      "  File \"/home/alden/Documents/Programming/marl-algos/src/common/runner.py\", line 31, in train\n",
      "    loss.backward()\n",
      "  File \"/home/alden/.pyenv/versions/3.10.7/lib/python3.10/site-packages/torch/_tensor.py\", line 487, in backward\n",
      "    torch.autograd.backward(\n",
      "  File \"/home/alden/.pyenv/versions/3.10.7/lib/python3.10/site-packages/torch/autograd/__init__.py\", line 197, in backward\n",
      "    Variable._execution_engine.run_backward(  # Calls into the C++ engine to run the backward pass\n",
      "KeyboardInterrupt\n",
      "\n",
      "During handling of the above exception, another exception occurred:\n",
      "\n",
      "Traceback (most recent call last):\n",
      "  File \"/home/alden/.local/lib/python3.10/site-packages/IPython/core/interactiveshell.py\", line 2052, in showtraceback\n",
      "    stb = self.InteractiveTB.structured_traceback(\n",
      "  File \"/home/alden/.local/lib/python3.10/site-packages/IPython/core/ultratb.py\", line 1112, in structured_traceback\n",
      "    return FormattedTB.structured_traceback(\n",
      "  File \"/home/alden/.local/lib/python3.10/site-packages/IPython/core/ultratb.py\", line 1006, in structured_traceback\n",
      "    return VerboseTB.structured_traceback(\n",
      "  File \"/home/alden/.local/lib/python3.10/site-packages/IPython/core/ultratb.py\", line 859, in structured_traceback\n",
      "    formatted_exception = self.format_exception_as_a_whole(etype, evalue, etb, number_of_lines_of_context,\n",
      "  File \"/home/alden/.local/lib/python3.10/site-packages/IPython/core/ultratb.py\", line 812, in format_exception_as_a_whole\n",
      "    frames.append(self.format_record(r))\n",
      "  File \"/home/alden/.local/lib/python3.10/site-packages/IPython/core/ultratb.py\", line 730, in format_record\n",
      "    result += ''.join(_format_traceback_lines(frame_info.lines, Colors, self.has_colors, lvals))\n",
      "  File \"/home/alden/.local/lib/python3.10/site-packages/stack_data/utils.py\", line 144, in cached_property_wrapper\n",
      "    value = obj.__dict__[self.func.__name__] = self.func(obj)\n",
      "  File \"/home/alden/.local/lib/python3.10/site-packages/stack_data/core.py\", line 720, in lines\n",
      "    pieces = self.included_pieces\n",
      "  File \"/home/alden/.local/lib/python3.10/site-packages/stack_data/utils.py\", line 144, in cached_property_wrapper\n",
      "    value = obj.__dict__[self.func.__name__] = self.func(obj)\n",
      "  File \"/home/alden/.local/lib/python3.10/site-packages/stack_data/core.py\", line 667, in included_pieces\n",
      "    pos = scope_pieces.index(self.executing_piece)\n",
      "  File \"/home/alden/.local/lib/python3.10/site-packages/stack_data/utils.py\", line 144, in cached_property_wrapper\n",
      "    value = obj.__dict__[self.func.__name__] = self.func(obj)\n",
      "  File \"/home/alden/.local/lib/python3.10/site-packages/stack_data/core.py\", line 646, in executing_piece\n",
      "    return only(\n",
      "  File \"/home/alden/.local/lib/python3.10/site-packages/executing/executing.py\", line 190, in only\n",
      "    raise NotOneValueFound('Expected one value, found 0')\n",
      "executing.executing.NotOneValueFound: Expected one value, found 0\n"
     ]
    }
   ],
   "source": [
    "%run ../src/main.py"
   ]
  }
 ],
 "metadata": {
  "kernelspec": {
   "display_name": "Python 3",
   "language": "python",
   "name": "python3"
  },
  "language_info": {
   "codemirror_mode": {
    "name": "ipython",
    "version": 3
   },
   "file_extension": ".py",
   "mimetype": "text/x-python",
   "name": "python",
   "nbconvert_exporter": "python",
   "pygments_lexer": "ipython3",
   "version": "3.10.7"
  },
  "orig_nbformat": 4
 },
 "nbformat": 4,
 "nbformat_minor": 2
}
